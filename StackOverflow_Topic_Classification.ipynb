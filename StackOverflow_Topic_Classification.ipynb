{
  "nbformat": 4,
  "nbformat_minor": 0,
  "metadata": {
    "colab": {
      "name": "StackOverflow Topic Classification.ipynb",
      "provenance": []
    },
    "kernelspec": {
      "name": "python3",
      "display_name": "Python 3"
    },
    "language_info": {
      "name": "python"
    }
  },
  "cells": [
    {
      "cell_type": "markdown",
      "metadata": {
        "id": "2GRzxAtAdk0X"
      },
      "source": [
        "## Load Python Modules\n"
      ]
    },
    {
      "cell_type": "code",
      "metadata": {
        "id": "VM6EzL-sdkV9"
      },
      "source": [
        "from bs4 import BeautifulSoup\n",
        "import random\n",
        "import re\n",
        "import csv"
      ],
      "execution_count": 2,
      "outputs": []
    },
    {
      "cell_type": "markdown",
      "metadata": {
        "id": "BAYTd_gSgN5x"
      },
      "source": [
        "## Authenticate with your GCP Project"
      ]
    },
    {
      "cell_type": "code",
      "metadata": {
        "colab": {
          "base_uri": "https://localhost:8080/"
        },
        "id": "UOdApy4Td6P2",
        "outputId": "cdf722e3-0131-4d48-edfd-6cf1d1dd022d"
      },
      "source": [
        "from google.colab import auth\n",
        "auth.authenticate_user()\n",
        "\n",
        "# https://cloud.google.com/resource-manager/docs/creating-managing-projects\n",
        "project_id = 'replace-with-your-project-id'\n",
        "!gcloud config set project {project_id}"
      ],
      "execution_count": 5,
      "outputs": [
        {
          "output_type": "stream",
          "name": "stdout",
          "text": [
            "Updated property [core/project].\n"
          ]
        }
      ]
    },
    {
      "cell_type": "markdown",
      "metadata": {
        "id": "SyC7KFDAdrxQ"
      },
      "source": [
        "## Import Data from BigQuery"
      ]
    },
    {
      "cell_type": "code",
      "metadata": {
        "id": "5STPWffYdqSz"
      },
      "source": [
        "%%bigquery df --project replace-with-your-project-id\n",
        "SELECT \n",
        "    Q.id,\n",
        "    Q.title,\n",
        "    Q.body AS question_body,\n",
        "    Q.answer_count,\n",
        "    Q.comment_count,\n",
        "    Q.favorite_count,\n",
        "    Q.score,\n",
        "    Q.tags,\n",
        "    Q.view_count,\n",
        "    A.body AS answer_body\n",
        "FROM `bigquery-public-data.stackoverflow.posts_questions` AS Q\n",
        "INNER JOIN `bigquery-public-data.stackoverflow.posts_answers` AS A\n",
        "    ON Q.accepted_answer_id = A.id\n",
        "WHERE (Q.tags LIKE '%google%' and Q.tags LIKE '%cloud%') or Q.tags LIKE '%dialogflow%'"
      ],
      "execution_count": 7,
      "outputs": []
    },
    {
      "cell_type": "markdown",
      "metadata": {
        "id": "vxkoMKx0etHg"
      },
      "source": [
        "## Format training data for AutoML Natural Language"
      ]
    },
    {
      "cell_type": "code",
      "metadata": {
        "id": "qXUPGTIudwSn"
      },
      "source": [
        "train_split = [\"TRAIN\"] * round(len(df)*.7) + [\"VALIDATION\"] * round(len(df)*.2) + [\"TEST\"] * round(len(df)*.1)\n",
        "random.shuffle(train_split)\n",
        "df[\"train_split\"] = train_split\n",
        "\n",
        "csv_file = open(\"train_data.csv\", \"w\")\n",
        "writer = csv.writer(csv_file)\n",
        "\n",
        "for index, row in df.iterrows():\n",
        "    soup = BeautifulSoup(df.question_body[index])\n",
        "    res = df.title[index] + \" \" + soup.text\n",
        "    text = res.replace('\\n',' ').replace(\"\\'\", \"'\").replace('\"',\"'\")\n",
        "    \n",
        "    labels = re.findall(\"(?:google|dialogflow)(?:-[a-z]+){1,4}\", df.tags[index].replace(\"|\",\" \"))\n",
        "    \n",
        "    writer.writerow([df[\"train_split\"][index]] + ['\"' + text + '\"'] + labels)\n",
        "    #print([df[\"train_split\"][index]] + ['\"' + text + '\"'] + labels)\n",
        "\n",
        "csv_file.close()"
      ],
      "execution_count": 9,
      "outputs": []
    }
  ]
}